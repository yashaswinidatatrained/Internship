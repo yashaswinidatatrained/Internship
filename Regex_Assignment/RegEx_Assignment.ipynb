{
 "cells": [
  {
   "cell_type": "code",
   "execution_count": 1,
   "id": "0e62aa71",
   "metadata": {},
   "outputs": [],
   "source": [
    "import re"
   ]
  },
  {
   "cell_type": "code",
   "execution_count": 62,
   "id": "8b0924e7",
   "metadata": {},
   "outputs": [
    {
     "name": "stdout",
     "output_type": "stream",
     "text": [
      "Python:Exercises::PHP:exercises:\n"
     ]
    }
   ],
   "source": [
    "x= 'Python Exercises, PHP exercises.'\n",
    "res = re.sub('[\\s,.]', \":\",x)\n",
    "print(res)"
   ]
  },
  {
   "cell_type": "code",
   "execution_count": 23,
   "id": "5fc453b8",
   "metadata": {},
   "outputs": [
    {
     "name": "stdout",
     "output_type": "stream",
     "text": [
      "['all', 'at', 'are', 'at', 'east', 'earacters']\n"
     ]
    }
   ],
   "source": [
    "x= 'find all words that are at east 4 earacters long in the string'\n",
    "res = re.findall('[ae]\\w+', x)\n",
    "print(res)"
   ]
  },
  {
   "cell_type": "code",
   "execution_count": 33,
   "id": "79fce3b1",
   "metadata": {},
   "outputs": [
    {
     "name": "stdout",
     "output_type": "stream",
     "text": [
      "['find', 'words', 'that', 'least', 'characters', 'long', 'string']\n"
     ]
    }
   ],
   "source": [
    "x= 'find all words that are at least 4 characters long in the string'\n",
    "pattern = r\"\\b\\w{4,}\\b\"\n",
    "\n",
    "prog = re.compile(pattern)\n",
    "res=prog.findall(x)\n",
    "print(res)\n"
   ]
  },
  {
   "cell_type": "code",
   "execution_count": 34,
   "id": "c1ea1da0",
   "metadata": {},
   "outputs": [
    {
     "name": "stdout",
     "output_type": "stream",
     "text": [
      "['find', 'all', 'words', 'that', 'are', 'least', 'long', 'the']\n"
     ]
    }
   ],
   "source": [
    "x= 'find all words that are at least 4 characters long in the string'\n",
    "pattern = r\"\\b\\w{3,5}\\b\"\n",
    "\n",
    "prog = re.compile(pattern)\n",
    "res=prog.findall(x)\n",
    "print(res)\n"
   ]
  },
  {
   "cell_type": "code",
   "execution_count": 2,
   "id": "418224d2",
   "metadata": {},
   "outputs": [
    {
     "name": "stdout",
     "output_type": "stream",
     "text": [
      "example .com\n",
      "hr@fliprobo .com\n",
      "github .com\n",
      "Hello Data Science World\n",
      "Data Scientist\n"
     ]
    }
   ],
   "source": [
    "def paranth(str):\n",
    "    pattern = r'[()]'\n",
    "    prog = re.compile(pattern)\n",
    "    a2 = prog.sub('',str)\n",
    "    return a2\n",
    "print(paranth(\"example (.com)\"))\n",
    "print(paranth(\"hr@fliprobo (.com)\"))\n",
    "print(paranth(\"github (.com)\"))\n",
    "print(paranth(\"Hello (Data Science World)\"))\n",
    "print(paranth(\"Data (Scientist)\"))\n"
   ]
  },
  {
   "cell_type": "code",
   "execution_count": 103,
   "id": "e991654c",
   "metadata": {},
   "outputs": [
    {
     "name": "stdout",
     "output_type": "stream",
     "text": [
      "[\"example\", \"hr@fliprobo\", \"github\", \"Hello\", \"Data\"]\n"
     ]
    }
   ],
   "source": [
    "with open (\"/Users/91966/file1.txt\") as file:\n",
    "    for line in file:\n",
    "        x = re.sub(r\" \\([^)]+\\)+\",\"\", line)\n",
    "        print(x)"
   ]
  },
  {
   "cell_type": "code",
   "execution_count": 116,
   "id": "24397aa0",
   "metadata": {},
   "outputs": [
    {
     "name": "stdout",
     "output_type": "stream",
     "text": [
      "['Importance', 'Of', 'Regular', 'Expressions', 'In', 'Python']\n"
     ]
    }
   ],
   "source": [
    "msg = \"ImportanceOfRegularExpressionsInPython\"\n",
    "x = re.findall(r\"[A-Z][^A-Z]*\",msg)\n",
    "print(x)\n"
   ]
  },
  {
   "cell_type": "code",
   "execution_count": 3,
   "id": "44bd51d2",
   "metadata": {},
   "outputs": [
    {
     "name": "stdout",
     "output_type": "stream",
     "text": [
      "RegularExpression 1IsAn 2ImportantTopic 3InPython\n"
     ]
    }
   ],
   "source": [
    "def space(str):\n",
    "    pattern = r'(\\d+(\\d+)?)'\n",
    "    Res = re.sub(pattern, r' \\1', str)\n",
    "    return Res\n",
    "print(space('RegularExpression1IsAn2ImportantTopic3InPython'))"
   ]
  },
  {
   "cell_type": "code",
   "execution_count": 4,
   "id": "a88b7ca6",
   "metadata": {},
   "outputs": [
    {
     "name": "stdout",
     "output_type": "stream",
     "text": [
      "RegularExpression 1 IsAn 2 ImportantTopic 3 InPython\n"
     ]
    }
   ],
   "source": [
    "def space(str):\n",
    "    pattern = r'(\\d+(\\d+)?)'\n",
    "    Res = re.sub(pattern, r' \\1 ', str)\n",
    "    return Res\n",
    "print(space('RegularExpression1IsAn2ImportantTopic3InPython'))"
   ]
  },
  {
   "cell_type": "code",
   "execution_count": 5,
   "id": "fff8035a",
   "metadata": {},
   "outputs": [
    {
     "name": "stdout",
     "output_type": "stream",
     "text": [
      "['xyz@domain.com', 'xyz.abc@sdomain.domain.com.']\n",
      "['hr@fliprobo.com']\n"
     ]
    }
   ],
   "source": [
    "with open (\"/Users/91966/mailid.txt\") as file:\n",
    "    for line in file:\n",
    "        x = re.findall('\\S+@\\S+', line)\n",
    "        print(x)"
   ]
  },
  {
   "cell_type": "code",
   "execution_count": 42,
   "id": "4009a3e3",
   "metadata": {},
   "outputs": [
    {
     "name": "stdout",
     "output_type": "stream",
     "text": [
      "match\n",
      "not a match!\n"
     ]
    }
   ],
   "source": [
    "def uplownum(str):\n",
    "        patterns = '^[a-zA-Z0-9_]*$'\n",
    "        if re.search(patterns,  str):\n",
    "                return ('match')\n",
    "        else:\n",
    "                return('not a match!')\n",
    "            \n",
    "print(uplownum(\"RegularExpression_1IsAn_2ImportantTopic3InPython\"))\n",
    "print(uplownum(\"Importance Of Regular Expressions In Python.\"))"
   ]
  },
  {
   "cell_type": "code",
   "execution_count": 46,
   "id": "93152be4",
   "metadata": {},
   "outputs": [
    {
     "name": "stdout",
     "output_type": "stream",
     "text": [
      "not a match\n",
      "match\n"
     ]
    }
   ],
   "source": [
    "def num(x):\n",
    "    pattern = r\"^2\"\n",
    "    if re.search(pattern, x):\n",
    "        return (\"match\")\n",
    "    else:\n",
    "        return (\"not a match\")\n",
    "print(num('3InPython'))\n",
    "print(num('2ImportantTopic'))"
   ]
  },
  {
   "cell_type": "code",
   "execution_count": 6,
   "id": "e568687a",
   "metadata": {},
   "outputs": [
    {
     "name": "stdout",
     "output_type": "stream",
     "text": [
      "192.168.1.34\n"
     ]
    }
   ],
   "source": [
    "ip_add = \"192.0168.01.034\"\n",
    "x = re.sub('\\.[0]*', '.', ip_add)\n",
    "print(x)\n"
   ]
  },
  {
   "cell_type": "code",
   "execution_count": 7,
   "id": "21ee9e9d",
   "metadata": {},
   "outputs": [
    {
     "name": "stdout",
     "output_type": "stream",
     "text": [
      "fox is found\n",
      "dog is found\n",
      "horse is not found\n"
     ]
    }
   ],
   "source": [
    "string = 'The quick brown fox jumps over the lazy dog.'\n",
    "src = ['fox','dog','horse']\n",
    "\n",
    "for x in src:\n",
    "    if re.search(x, string):\n",
    "        print(x, 'is found')\n",
    "    else:\n",
    "        print(x, 'is not found')"
   ]
  },
  {
   "cell_type": "code",
   "execution_count": 71,
   "id": "c73003a6",
   "metadata": {},
   "outputs": [
    {
     "name": "stdout",
     "output_type": "stream",
     "text": [
      "<re.Match object; span=(16, 19), match='fox'>\n",
      "16 \n",
      "\n",
      "19 \n",
      "\n"
     ]
    }
   ],
   "source": [
    "str = 'The quick brown fox jumps over the lazy dog.'\n",
    "x = re.search(\"fox\", str)\n",
    "print(x)\n",
    "print(x.start(),\"\\n\")\n",
    "print(x.end(),\"\\n\")"
   ]
  },
  {
   "cell_type": "code",
   "execution_count": 80,
   "id": "8533df4d",
   "metadata": {},
   "outputs": [
    {
     "name": "stdout",
     "output_type": "stream",
     "text": [
      "matches are ['exercises', 'exercises', 'exercises']\n"
     ]
    }
   ],
   "source": [
    "Str = 'Python exercises, PHP exercises, C# exercises'\n",
    "search = 'exercises'\n",
    "x = re.findall(search, Str)\n",
    "print('matches are',x)"
   ]
  },
  {
   "cell_type": "code",
   "execution_count": 85,
   "id": "14e4aee0",
   "metadata": {},
   "outputs": [
    {
     "name": "stdout",
     "output_type": "stream",
     "text": [
      "Found at 7 16\n",
      "Found at 22 31\n",
      "Found at 36 45\n"
     ]
    }
   ],
   "source": [
    "Str = 'Python exercises, PHP exercises, C# exercises'\n",
    "search = 'exercises'\n",
    "for src in re.finditer(search, Str):\n",
    "    s = src.start()\n",
    "    e = src.end()\n",
    "    print('Found at', s, e)"
   ]
  },
  {
   "cell_type": "code",
   "execution_count": 102,
   "id": "808cb0b1",
   "metadata": {},
   "outputs": [
    {
     "name": "stdout",
     "output_type": "stream",
     "text": [
      "25-08-2023\n"
     ]
    }
   ],
   "source": [
    "x = \"2023-08-25\"\n",
    "res = re.sub(r'(\\d{4})-(\\d{1,2})-(\\d{1,2})', '\\\\3-\\\\2-\\\\1',x)\n",
    "print(res)"
   ]
  },
  {
   "cell_type": "code",
   "execution_count": 98,
   "id": "a51d8199",
   "metadata": {},
   "outputs": [
    {
     "name": "stdout",
     "output_type": "stream",
     "text": [
      "3\n",
      " number positions is at: 10\n",
      "4\n",
      " number positions is at: 37\n"
     ]
    }
   ],
   "source": [
    "Str = \"The quick 3 brown fox jumps over the 4 lazy dogs.\"\n",
    "\n",
    "for x in re.finditer(\"\\d+\", Str):\n",
    "    print(x.group(0))\n",
    "    print(\" number positions is at:\", x.start())"
   ]
  },
  {
   "cell_type": "code",
   "execution_count": 101,
   "id": "282ee2df",
   "metadata": {},
   "outputs": [
    {
     "name": "stdout",
     "output_type": "stream",
     "text": [
      "950\n"
     ]
    }
   ],
   "source": [
    "str='My marks in each semester are: 947, 896, 926, 524, 734, 950, 642'\n",
    "\n",
    "num = re.findall('\\d+', str)\n",
    "num = map(int, num)\n",
    "print(max(num))"
   ]
  },
  {
   "cell_type": "code",
   "execution_count": 9,
   "id": "fbdb8be6",
   "metadata": {},
   "outputs": [
    {
     "name": "stdout",
     "output_type": "stream",
     "text": [
      "Regular Expression Is An Important Topic In Python\n"
     ]
    }
   ],
   "source": [
    "def spaces(str1):\n",
    "    return re.sub(r\"(\\w)([A-Z])\", r\"\\1 \\2\", str1)\n",
    "print(spaces(\"RegularExpressionIsAnImportantTopicInPython\"))"
   ]
  },
  {
   "cell_type": "code",
   "execution_count": 91,
   "id": "bbd000d8",
   "metadata": {},
   "outputs": [
    {
     "name": "stdout",
     "output_type": "stream",
     "text": [
      "['Doesnot', 'Alphanumeric']\n"
     ]
    }
   ],
   "source": [
    "x = \"Doesnot end with Alphanumeric values\"\n",
    "pattern = r'[A-Z]+[a-z]+'\n",
    "Res = re.findall(pattern, x)\n",
    "print(Res)"
   ]
  },
  {
   "cell_type": "code",
   "execution_count": 23,
   "id": "7cf7e5c7",
   "metadata": {},
   "outputs": [
    {
     "name": "stdout",
     "output_type": "stream",
     "text": [
      "Hello hello world\n"
     ]
    }
   ],
   "source": [
    "str = \"Hello hello world world\"\n",
    "pattern = r'\\b(\\w+)(?:\\W+\\1\\b)+'\n",
    "x = re.sub(pattern, r'\\1', str)\n",
    "print(x)"
   ]
  },
  {
   "cell_type": "code",
   "execution_count": 85,
   "id": "af4d099c",
   "metadata": {},
   "outputs": [
    {
     "name": "stdout",
     "output_type": "stream",
     "text": [
      "enter the string    python\n",
      "('python', 'ends with alphanumeric')\n"
     ]
    }
   ],
   "source": [
    "def alphanum(str):\n",
    "        patterns = '[a-zA-z0-9]$'\n",
    "        \n",
    "            \n",
    "        if re.search(patterns,  str):\n",
    "                return (str, 'ends with alphanumeric')\n",
    "        else:\n",
    "                return(str, 'doesnot end with alphanumeric')\n",
    "                \n",
    "str = input(\"enter the string    \")\n",
    "print(alphanum(str))"
   ]
  },
  {
   "cell_type": "code",
   "execution_count": 17,
   "id": "11153881",
   "metadata": {},
   "outputs": [
    {
     "name": "stdout",
     "output_type": "stream",
     "text": [
      "['#Doltiwal', '#xyzabc', '#Demonetization']\n"
     ]
    }
   ],
   "source": [
    "x = \"\"\"RT @kapil_kausik: #Doltiwal I mean #xyzabc is \"hurt\" by #Demonetization as the same has rendered USELESS <ed><U+00A0><U+00BD><ed><U+00B1><U+0089> \"acquired funds\" No wo\"\"\"\n",
    "pattern = r\"#\\S+\"\n",
    "Res = re.findall(pattern, x)\n",
    "print(Res)"
   ]
  },
  {
   "cell_type": "code",
   "execution_count": 16,
   "id": "9dac4e22",
   "metadata": {},
   "outputs": [
    {
     "name": "stdout",
     "output_type": "stream",
     "text": [
      "@Jags123456 Bharat band on 28??<ed><ed>Those who  are protesting #demonetization  are all different party leaders\n"
     ]
    }
   ],
   "source": [
    "x = \"@Jags123456 Bharat band on 28??<ed><U+00A0><U+00BD><ed><U+00B8><U+0082>Those who  are protesting #demonetization  are all different party leaders\"\n",
    "pattern = r\"(<U\\+[A-F0-9]{4}>)\"\n",
    "Res = re.sub(pattern, \"\", x)\n",
    "print(Res)\n"
   ]
  },
  {
   "cell_type": "code",
   "execution_count": 6,
   "id": "a1e93fc7",
   "metadata": {},
   "outputs": [
    {
     "name": "stdout",
     "output_type": "stream",
     "text": [
      "['12-09-1992', '15-12-1999']\n"
     ]
    }
   ],
   "source": [
    "with open (\"/Users/91966/monthyear.txt\") as file:\n",
    "    for line in file:\n",
    "        x = re.findall(r'(\\w+-\\d+-\\d+)', line)\n",
    "        print(x)"
   ]
  },
  {
   "cell_type": "code",
   "execution_count": 10,
   "id": "1cc10c25",
   "metadata": {},
   "outputs": [
    {
     "name": "stdout",
     "output_type": "stream",
     "text": [
      " following example creates ArrayList a capacity elements. 4 elements added ArrayList ArrayList trimmed accordingly.\n"
     ]
    }
   ],
   "source": [
    "text = \"The following example creates an ArrayList with a capacity of 50 elements. 4 elements are then added to the ArrayList and the ArrayList is trimmed accordingly.\"\n",
    "pattern = r'\\W*\\b\\w{2,4}\\b'\n",
    "\n",
    "x = re.compile(pattern)\n",
    "print(x.sub('', text))"
   ]
  },
  {
   "cell_type": "code",
   "execution_count": 3,
   "id": "465d5574",
   "metadata": {},
   "outputs": [
    {
     "name": "stdout",
     "output_type": "stream",
     "text": [
      "<re.Match object; span=(4, 20), match='August 15th 1947'>\n"
     ]
    }
   ],
   "source": [
    "with open (\"/Users/91966/august.txt\") as file:\n",
    "    for line in file:\n",
    "        y = re.search(r'(\\w{6}) (\\d{2}\\w{2}) (\\d{4})', line)\n",
    "        print(y)"
   ]
  },
  {
   "cell_type": "code",
   "execution_count": 2,
   "id": "4a985c64",
   "metadata": {},
   "outputs": [
    {
     "name": "stdout",
     "output_type": "stream",
     "text": [
      "['01.12', '145.8', '3.01', '27.25', '0.25']\n"
     ]
    }
   ],
   "source": [
    "x = \"01.12 0132.123 2.31875 145.8 3.01 27.25 0.25\"\n",
    "pattern = r'\\d+\\.\\d{1,2}(?!\\d)'\n",
    "\n",
    "prog = re.compile(pattern)\n",
    "a2 = prog.findall(x)\n",
    "print(a2)"
   ]
  },
  {
   "cell_type": "code",
   "execution_count": null,
   "id": "af854c7c",
   "metadata": {},
   "outputs": [],
   "source": []
  },
  {
   "cell_type": "code",
   "execution_count": null,
   "id": "911a15b4",
   "metadata": {},
   "outputs": [],
   "source": []
  },
  {
   "cell_type": "code",
   "execution_count": null,
   "id": "be9993d0",
   "metadata": {},
   "outputs": [],
   "source": []
  },
  {
   "cell_type": "code",
   "execution_count": null,
   "id": "12b11a4f",
   "metadata": {},
   "outputs": [],
   "source": []
  },
  {
   "cell_type": "code",
   "execution_count": null,
   "id": "c68db102",
   "metadata": {},
   "outputs": [],
   "source": []
  }
 ],
 "metadata": {
  "kernelspec": {
   "display_name": "Python 3 (ipykernel)",
   "language": "python",
   "name": "python3"
  },
  "language_info": {
   "codemirror_mode": {
    "name": "ipython",
    "version": 3
   },
   "file_extension": ".py",
   "mimetype": "text/x-python",
   "name": "python",
   "nbconvert_exporter": "python",
   "pygments_lexer": "ipython3",
   "version": "3.9.13"
  }
 },
 "nbformat": 4,
 "nbformat_minor": 5
}
